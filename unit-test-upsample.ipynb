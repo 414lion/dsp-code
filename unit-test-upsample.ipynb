{
 "cells": [
  {
   "cell_type": "code",
   "execution_count": null,
   "id": "f23e9673-4442-4360-aa23-93a68b9ee536",
   "metadata": {},
   "outputs": [],
   "source": [
    "# Initialization for this notebook.\n",
    "import numpy as np\n",
    "import math\n",
    "from scipy import signal\n",
    "import matplotlib.pyplot as plt\n",
    "import scipy.io.wavfile as wavfile\n",
    "import os\n",
    "from os.path import dirname, join as pjoin\n",
    "import scipy.io as sio\n",
    "\n",
    "# Import everything from `lib/dsp.py`.\n",
    "from lib.dsp import *"
   ]
  },
  {
   "cell_type": "code",
   "execution_count": null,
   "id": "51ede8b4-08cd-462f-a74c-5876eb52f7ae",
   "metadata": {},
   "outputs": [],
   "source": [
    "path = os.path.abspath(os.path.join(os.path.dirname('settings.py'),os.path.pardir))\n",
    "path = path+'\\data'\n",
    "data_dir = pjoin(dirname(sio.__file__), path)\n",
    "wav_fname_x = pjoin(data_dir, 'test48KHz.wav')\n",
    "wav_fname_fir = pjoin(data_dir, 'test-fir-48KHz.wav')\n",
    "wav_fname_iir = pjoin(data_dir, 'test-iir-48KHz.wav')\n",
    "wav_fname_interp = pjoin(data_dir, 'test-interp-48KHz.wav')\n",
    "\n",
    "fs, x = sio.wavfile.read(wav_fname_x)\n",
    "fs_fir,x_fir = wavfile.read(wav_fname_fir)\n",
    "fs_iir,x_iir = wavfile.read(wav_fname_iir)\n",
    "fs_interp,x_interp = wavfile.read(wav_fname_interp)\n",
    "\n",
    "fig, axs = plt.subplots(2, 2, figsize=(15,8))\n",
    "fig.tight_layout(h_pad=4) \n",
    "TITLES = ['sequence', 'spectrum']\n",
    "plot_signals(['x'], [x], fs, axs[0,:], TITLES)\n",
    "plot_signals(['x'], [x], fs, axs[1,:], TITLES)\n",
    "plot_signals(['x_fir'], [x_fir], fs_fir, axs[1,:], TITLES)\n",
    "\n",
    "fig, axs = plt.subplots(2, 2, figsize=(15,8))\n",
    "fig.tight_layout(h_pad=4) \n",
    "TITLES = ['sequence', 'spectrum']\n",
    "plot_signals(['x'], [x], fs, axs[0,:], TITLES)\n",
    "plot_signals(['x'], [x], fs, axs[1,:], TITLES)\n",
    "plot_signals(['x_iir'], [x_iir], fs_iir, axs[1,:], TITLES)\n",
    "\n",
    "fig, axs = plt.subplots(2, 2, figsize=(15,8))\n",
    "fig.tight_layout(h_pad=4) \n",
    "TITLES = ['sequence', 'spectrum']\n",
    "plot_signals(['x'], [x], fs, axs[0,:], TITLES)\n",
    "plot_signals(['x'], [x], fs, axs[1,:], TITLES)\n",
    "plot_signals(['x_interp'], [x_interp], fs_interp, axs[1,:], TITLES)"
   ]
  }
 ],
 "metadata": {
  "kernelspec": {
   "display_name": "Python 3 (ipykernel)",
   "language": "python",
   "name": "python3"
  },
  "language_info": {
   "codemirror_mode": {
    "name": "ipython",
    "version": 3
   },
   "file_extension": ".py",
   "mimetype": "text/x-python",
   "name": "python",
   "nbconvert_exporter": "python",
   "pygments_lexer": "ipython3",
   "version": "3.9.5"
  }
 },
 "nbformat": 4,
 "nbformat_minor": 5
}
